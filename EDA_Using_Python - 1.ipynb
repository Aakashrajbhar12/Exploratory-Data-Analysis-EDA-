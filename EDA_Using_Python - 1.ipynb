{
 "cells": [
  {
   "cell_type": "markdown",
   "id": "6fb0a4db",
   "metadata": {},
   "source": [
    "### Exploratory Data Analysis"
   ]
  },
  {
   "cell_type": "code",
   "execution_count": 1,
   "id": "1d5a7b31",
   "metadata": {},
   "outputs": [],
   "source": [
    "#Importing Libaries Required\n",
    "import pandas as pd\n",
    "import numpy as np\n",
    "import matplotlib.pyplot as plt\n",
    "%matplotlib inline\n",
    "import seaborn as sns\n",
    "\n",
    "import warnings\n",
    "warnings.filterwarnings(\"ignore\")  #--to ignore warnings"
   ]
  },
  {
   "cell_type": "code",
   "execution_count": 2,
   "id": "cd7a2334",
   "metadata": {},
   "outputs": [
    {
     "data": {
      "text/html": [
       "<div>\n",
       "<style scoped>\n",
       "    .dataframe tbody tr th:only-of-type {\n",
       "        vertical-align: middle;\n",
       "    }\n",
       "\n",
       "    .dataframe tbody tr th {\n",
       "        vertical-align: top;\n",
       "    }\n",
       "\n",
       "    .dataframe thead th {\n",
       "        text-align: right;\n",
       "    }\n",
       "</style>\n",
       "<table border=\"1\" class=\"dataframe\">\n",
       "  <thead>\n",
       "    <tr style=\"text-align: right;\">\n",
       "      <th></th>\n",
       "      <th>Country</th>\n",
       "      <th>Age</th>\n",
       "      <th>Salary</th>\n",
       "      <th>Purchased</th>\n",
       "    </tr>\n",
       "  </thead>\n",
       "  <tbody>\n",
       "    <tr>\n",
       "      <th>0</th>\n",
       "      <td>France</td>\n",
       "      <td>44.0</td>\n",
       "      <td>72000.0</td>\n",
       "      <td>No</td>\n",
       "    </tr>\n",
       "    <tr>\n",
       "      <th>1</th>\n",
       "      <td>Spain</td>\n",
       "      <td>27.0</td>\n",
       "      <td>48000.0</td>\n",
       "      <td>Yes</td>\n",
       "    </tr>\n",
       "    <tr>\n",
       "      <th>2</th>\n",
       "      <td>Germany</td>\n",
       "      <td>30.0</td>\n",
       "      <td>54000.0</td>\n",
       "      <td>No</td>\n",
       "    </tr>\n",
       "    <tr>\n",
       "      <th>3</th>\n",
       "      <td>Spain</td>\n",
       "      <td>38.0</td>\n",
       "      <td>61000.0</td>\n",
       "      <td>No</td>\n",
       "    </tr>\n",
       "    <tr>\n",
       "      <th>4</th>\n",
       "      <td>Germany</td>\n",
       "      <td>40.0</td>\n",
       "      <td>NaN</td>\n",
       "      <td>Yes</td>\n",
       "    </tr>\n",
       "  </tbody>\n",
       "</table>\n",
       "</div>"
      ],
      "text/plain": [
       "   Country   Age   Salary Purchased\n",
       "0   France  44.0  72000.0        No\n",
       "1    Spain  27.0  48000.0       Yes\n",
       "2  Germany  30.0  54000.0        No\n",
       "3    Spain  38.0  61000.0        No\n",
       "4  Germany  40.0      NaN       Yes"
      ]
     },
     "execution_count": 2,
     "metadata": {},
     "output_type": "execute_result"
    }
   ],
   "source": [
    "#Loading the dataset\n",
    "data = pd.read_csv(\"C:/Users/Akaash/Downloads/Data.csv\")\n",
    "#to view the dataset\n",
    "data.head()"
   ]
  },
  {
   "cell_type": "code",
   "execution_count": 3,
   "id": "19b40189",
   "metadata": {},
   "outputs": [
    {
     "name": "stdout",
     "output_type": "stream",
     "text": [
      "<class 'pandas.core.frame.DataFrame'>\n",
      "RangeIndex: 10 entries, 0 to 9\n",
      "Data columns (total 4 columns):\n",
      " #   Column     Non-Null Count  Dtype  \n",
      "---  ------     --------------  -----  \n",
      " 0   Country    10 non-null     object \n",
      " 1   Age        9 non-null      float64\n",
      " 2   Salary     9 non-null      float64\n",
      " 3   Purchased  10 non-null     object \n",
      "dtypes: float64(2), object(2)\n",
      "memory usage: 448.0+ bytes\n"
     ]
    }
   ],
   "source": [
    "#View the informtion of dataset \n",
    "data.info()"
   ]
  },
  {
   "cell_type": "markdown",
   "id": "a221cb88",
   "metadata": {},
   "source": [
    "### Missing Value imputation\n",
    "We can see through data.info() tht there are missing values in 'age' and 'salary' column lets handle them one by one."
   ]
  },
  {
   "cell_type": "code",
   "execution_count": 4,
   "id": "51faedf6",
   "metadata": {},
   "outputs": [],
   "source": [
    "#The method .copy() is used here so that any changes made in new DataFrame don't get reflected in the original one\n",
    "data1=data.copy()"
   ]
  },
  {
   "cell_type": "code",
   "execution_count": 5,
   "id": "3883a36b",
   "metadata": {
    "scrolled": true
   },
   "outputs": [
    {
     "data": {
      "text/plain": [
       "<AxesSubplot:>"
      ]
     },
     "execution_count": 5,
     "metadata": {},
     "output_type": "execute_result"
    },
    {
     "data": {
      "image/png": "[encoded data removed]",
      "text/plain": [
       "<Figure size 432x288 with 2 Axes>"
      ]
     },
     "metadata": {
      "needs_background": "light"
     },
     "output_type": "display_data"
    }
   ],
   "source": [
    "# Heatmap to see Null Value proportion\n",
    "cols = data1.columns \n",
    "colours = ['#000000', '#ffff00'] # specify the colours - yellow is missing. black is not missing.\n",
    "sns.heatmap(data1[cols].isnull(),cmap=sns.color_palette(colours))\n"
   ]
  },
  {
   "cell_type": "markdown",
   "id": "1e67c7ee",
   "metadata": {},
   "source": [
    "Inference: As it can be seen, 'Age' & 'Salary' Coln has missing value."
   ]
  },
  {
   "cell_type": "code",
   "execution_count": 6,
   "id": "fe05906e",
   "metadata": {},
   "outputs": [
    {
     "data": {
      "text/plain": [
       "Country      0\n",
       "Age          1\n",
       "Salary       1\n",
       "Purchased    0\n",
       "dtype: int64"
      ]
     },
     "execution_count": 6,
     "metadata": {},
     "output_type": "execute_result"
    }
   ],
   "source": [
    "#To get count the no of misssing value\n",
    "data1.isnull().sum()"
   ]
  },
  {
   "cell_type": "markdown",
   "id": "e20cf470",
   "metadata": {},
   "source": [
    "Inference:'Age': 1 NA Values, 'Salary': 1 Na Values"
   ]
  },
  {
   "cell_type": "code",
   "execution_count": 7,
   "id": "60c4342f",
   "metadata": {},
   "outputs": [
    {
     "name": "stdout",
     "output_type": "stream",
     "text": [
      "39\n"
     ]
    }
   ],
   "source": [
    "#Mean imputation For Age Coln -- Taking Mean of Age Coln and filling NA values with mean Value\n",
    "mean = round((data1.Age.mean()))  #Using Round fuction bcoz age cannot be decimal\n",
    "print(mean)"
   ]
  },
  {
   "cell_type": "code",
   "execution_count": 8,
   "id": "2869856f",
   "metadata": {},
   "outputs": [
    {
     "name": "stdout",
     "output_type": "stream",
     "text": [
      "<class 'pandas.core.frame.DataFrame'>\n",
      "RangeIndex: 10 entries, 0 to 9\n",
      "Data columns (total 4 columns):\n",
      " #   Column     Non-Null Count  Dtype  \n",
      "---  ------     --------------  -----  \n",
      " 0   Country    10 non-null     object \n",
      " 1   Age        10 non-null     float64\n",
      " 2   Salary     9 non-null      float64\n",
      " 3   Purchased  10 non-null     object \n",
      "dtypes: float64(2), object(2)\n",
      "memory usage: 448.0+ bytes\n",
      "Isnull count is: 0\n"
     ]
    }
   ],
   "source": [
    "#To fill NA value of 'Age' with its mean\n",
    "data1['Age'] = data1['Age'].fillna(mean)\n",
    "\n",
    "#To check 'Age' is filled or not\n",
    "data1.info()\n",
    "\n",
    "print(\"Isnull count is:\",data1.Age.isnull().sum())"
   ]
  },
  {
   "cell_type": "markdown",
   "id": "dbfb380e",
   "metadata": {},
   "source": [
    "inference: 'Age' is now filled"
   ]
  },
  {
   "cell_type": "code",
   "execution_count": 9,
   "id": "a6071fca",
   "metadata": {},
   "outputs": [
    {
     "name": "stdout",
     "output_type": "stream",
     "text": [
      "63777.77777777778\n"
     ]
    }
   ],
   "source": [
    "#Mean Imputation of 'salary' coln --Taking mean of Salary coln and filling NA values with it\n",
    "mean = data1.Salary.mean()\n",
    "print(mean)"
   ]
  },
  {
   "cell_type": "code",
   "execution_count": 10,
   "id": "a3166bc2",
   "metadata": {},
   "outputs": [
    {
     "name": "stdout",
     "output_type": "stream",
     "text": [
      "<class 'pandas.core.frame.DataFrame'>\n",
      "RangeIndex: 10 entries, 0 to 9\n",
      "Data columns (total 4 columns):\n",
      " #   Column     Non-Null Count  Dtype  \n",
      "---  ------     --------------  -----  \n",
      " 0   Country    10 non-null     object \n",
      " 1   Age        10 non-null     float64\n",
      " 2   Salary     10 non-null     float64\n",
      " 3   Purchased  10 non-null     object \n",
      "dtypes: float64(2), object(2)\n",
      "memory usage: 448.0+ bytes\n",
      "Isnull count is: 0\n"
     ]
    }
   ],
   "source": [
    "#To fill NA Value of 'Salary' coln using fillna\n",
    "data1['Salary'] = data1['Salary'].fillna(mean)\n",
    "\n",
    "#To check 'Age' is filled or not\n",
    "data1.info()\n",
    "\n",
    "print(\"Isnull count is:\",data1.Salary.isnull().sum())"
   ]
  },
  {
   "cell_type": "markdown",
   "id": "c539f56e",
   "metadata": {},
   "source": [
    "inference: 'Age' and 'Salary' is now filled and No Null value is present in the dataset"
   ]
  },
  {
   "cell_type": "markdown",
   "id": "1cc1a5ab",
   "metadata": {},
   "source": [
    "### Visualization - Outliers detection, distribution"
   ]
  },
  {
   "cell_type": "code",
   "execution_count": 11,
   "id": "4cf0e6f5",
   "metadata": {},
   "outputs": [
    {
     "data": {
      "text/plain": [
       "Text(0.5, 1.0, 'Detection of Outliers in Age')"
      ]
     },
     "execution_count": 11,
     "metadata": {},
     "output_type": "execute_result"
    },
    {
     "data": {
      "image/png": "[encoded data removed]",
      "text/plain": [
       "<Figure size 432x288 with 2 Axes>"
      ]
     },
     "metadata": {
      "needs_background": "light"
     },
     "output_type": "display_data"
    }
   ],
   "source": [
    "#Boxplot for Age and salary\n",
    "plt.subplots(1,2)\n",
    "plt.subplot(1,2,1)\n",
    "sns.boxplot(y='Salary', data=data1)\n",
    "plt.title('Detection of Outliers in Salary')\n",
    "plt.subplot(1,2,2)\n",
    "sns.boxplot(y='Age',data=data1)\n",
    "plt.title(\"Detection of Outliers in Age\")"
   ]
  },
  {
   "cell_type": "markdown",
   "id": "4380e26c",
   "metadata": {},
   "source": [
    "Through boxplot it can be seen there are no outliers present in the Age and Salary column, also it seems they follow a normal distribution, let find out using distribution plot"
   ]
  },
  {
   "cell_type": "code",
   "execution_count": 12,
   "id": "14e4da26",
   "metadata": {},
   "outputs": [
    {
     "data": {
      "text/plain": [
       "Text(0.5, 1.0, 'Distribution of Age')"
      ]
     },
     "execution_count": 12,
     "metadata": {},
     "output_type": "execute_result"
    },
    {
     "data": {
      "image/png": "[encoded data removed]",
      "text/plain": [
       "<Figure size 432x288 with 2 Axes>"
      ]
     },
     "metadata": {
      "needs_background": "light"
     },
     "output_type": "display_data"
    }
   ],
   "source": [
    "#Distribution plot for Age and Salary column\n",
    "plt.subplots(1,2)\n",
    "plt.subplot(1,2,1)\n",
    "sns.distplot(data1.Salary)\n",
    "plt.title(\"Distribution of Salary\")\n",
    "plt.subplot(1,2,2)\n",
    "sns.distplot(data1.Age)\n",
    "plt.title(\"Distribution of Age\")"
   ]
  },
  {
   "cell_type": "markdown",
   "id": "3c0dd16d",
   "metadata": {},
   "source": [
    "Through distplot it can be seen the Age and Salary column, they follow a normal distribution"
   ]
  },
  {
   "cell_type": "code",
   "execution_count": 13,
   "id": "f561ee8b",
   "metadata": {},
   "outputs": [
    {
     "data": {
      "text/plain": [
       "Text(0.5, 1.0, 'Purchased')"
      ]
     },
     "execution_count": 13,
     "metadata": {},
     "output_type": "execute_result"
    },
    {
     "data": {
      "image/png": "[encoded data removed]",
      "text/plain": [
       "<Figure size 432x288 with 2 Axes>"
      ]
     },
     "metadata": {
      "needs_background": "light"
     },
     "output_type": "display_data"
    }
   ],
   "source": [
    "#Barplot & Pie plot for catergorical coln\n",
    "plt.subplots(1,2)\n",
    "plt.subplot(1,2,1)\n",
    "data1['Country'].value_counts().plot.bar()\n",
    "plt.title('Country')\n",
    "plt.subplot(1,2,2)\n",
    "data1['Purchased'].value_counts().plot.pie()\n",
    "plt.title('Purchased')"
   ]
  },
  {
   "cell_type": "markdown",
   "id": "d077eb31",
   "metadata": {},
   "source": [
    "Barplot inference: It can be seen there are more people from France then other two country,Spain and germany have same count\n",
    "\n",
    "Pie chart inference: it a 50 : 50 ratio of purchased "
   ]
  },
  {
   "cell_type": "markdown",
   "id": "342533a4",
   "metadata": {},
   "source": [
    "### Scatter/Pair plot and Correlation analysis"
   ]
  },
  {
   "cell_type": "code",
   "execution_count": 14,
   "id": "47659254",
   "metadata": {},
   "outputs": [
    {
     "data": {
      "text/plain": [
       "<seaborn.axisgrid.PairGrid at 0x211c7f0ddc0>"
      ]
     },
     "execution_count": 14,
     "metadata": {},
     "output_type": "execute_result"
    },
    {
     "data": {
      "image/png": "[encoded data removed]",
      "text/plain": [
       "<Figure size 360x360 with 6 Axes>"
      ]
     },
     "metadata": {
      "needs_background": "light"
     },
     "output_type": "display_data"
    }
   ],
   "source": [
    "#Pairplot\n",
    "sns.pairplot(data1)"
   ]
  },
  {
   "cell_type": "code",
   "execution_count": 15,
   "id": "0dba6a48",
   "metadata": {},
   "outputs": [
    {
     "data": {
      "text/html": [
       "<div>\n",
       "<style scoped>\n",
       "    .dataframe tbody tr th:only-of-type {\n",
       "        vertical-align: middle;\n",
       "    }\n",
       "\n",
       "    .dataframe tbody tr th {\n",
       "        vertical-align: top;\n",
       "    }\n",
       "\n",
       "    .dataframe thead th {\n",
       "        text-align: right;\n",
       "    }\n",
       "</style>\n",
       "<table border=\"1\" class=\"dataframe\">\n",
       "  <thead>\n",
       "    <tr style=\"text-align: right;\">\n",
       "      <th></th>\n",
       "      <th>Age</th>\n",
       "      <th>Salary</th>\n",
       "    </tr>\n",
       "  </thead>\n",
       "  <tbody>\n",
       "    <tr>\n",
       "      <th>Age</th>\n",
       "      <td>1.000000</td>\n",
       "      <td>0.909068</td>\n",
       "    </tr>\n",
       "    <tr>\n",
       "      <th>Salary</th>\n",
       "      <td>0.909068</td>\n",
       "      <td>1.000000</td>\n",
       "    </tr>\n",
       "  </tbody>\n",
       "</table>\n",
       "</div>"
      ],
      "text/plain": [
       "             Age    Salary\n",
       "Age     1.000000  0.909068\n",
       "Salary  0.909068  1.000000"
      ]
     },
     "execution_count": 15,
     "metadata": {},
     "output_type": "execute_result"
    }
   ],
   "source": [
    "#To find out Correlation \n",
    "data1.corr()"
   ]
  },
  {
   "cell_type": "markdown",
   "id": "9dea8f0e",
   "metadata": {},
   "source": [
    "inference: Age and salary are strongly correlated as its r value is 0.9"
   ]
  },
  {
   "cell_type": "markdown",
   "id": "8190ee45",
   "metadata": {},
   "source": [
    "### Transformations"
   ]
  },
  {
   "cell_type": "markdown",
   "id": "1dea8c32",
   "metadata": {},
   "source": [
    "#### Dummy Variable"
   ]
  },
  {
   "cell_type": "code",
   "execution_count": 16,
   "id": "d9e111c6",
   "metadata": {},
   "outputs": [
    {
     "data": {
      "text/html": [
       "<div>\n",
       "<style scoped>\n",
       "    .dataframe tbody tr th:only-of-type {\n",
       "        vertical-align: middle;\n",
       "    }\n",
       "\n",
       "    .dataframe tbody tr th {\n",
       "        vertical-align: top;\n",
       "    }\n",
       "\n",
       "    .dataframe thead th {\n",
       "        text-align: right;\n",
       "    }\n",
       "</style>\n",
       "<table border=\"1\" class=\"dataframe\">\n",
       "  <thead>\n",
       "    <tr style=\"text-align: right;\">\n",
       "      <th></th>\n",
       "      <th>Country</th>\n",
       "      <th>Age</th>\n",
       "      <th>Salary</th>\n",
       "      <th>Purchased_No</th>\n",
       "      <th>Purchased_Yes</th>\n",
       "    </tr>\n",
       "  </thead>\n",
       "  <tbody>\n",
       "    <tr>\n",
       "      <th>0</th>\n",
       "      <td>France</td>\n",
       "      <td>44.0</td>\n",
       "      <td>72000.000000</td>\n",
       "      <td>1</td>\n",
       "      <td>0</td>\n",
       "    </tr>\n",
       "    <tr>\n",
       "      <th>1</th>\n",
       "      <td>Spain</td>\n",
       "      <td>27.0</td>\n",
       "      <td>48000.000000</td>\n",
       "      <td>0</td>\n",
       "      <td>1</td>\n",
       "    </tr>\n",
       "    <tr>\n",
       "      <th>2</th>\n",
       "      <td>Germany</td>\n",
       "      <td>30.0</td>\n",
       "      <td>54000.000000</td>\n",
       "      <td>1</td>\n",
       "      <td>0</td>\n",
       "    </tr>\n",
       "    <tr>\n",
       "      <th>3</th>\n",
       "      <td>Spain</td>\n",
       "      <td>38.0</td>\n",
       "      <td>61000.000000</td>\n",
       "      <td>1</td>\n",
       "      <td>0</td>\n",
       "    </tr>\n",
       "    <tr>\n",
       "      <th>4</th>\n",
       "      <td>Germany</td>\n",
       "      <td>40.0</td>\n",
       "      <td>63777.777778</td>\n",
       "      <td>0</td>\n",
       "      <td>1</td>\n",
       "    </tr>\n",
       "  </tbody>\n",
       "</table>\n",
       "</div>"
      ],
      "text/plain": [
       "   Country   Age        Salary  Purchased_No  Purchased_Yes\n",
       "0   France  44.0  72000.000000             1              0\n",
       "1    Spain  27.0  48000.000000             0              1\n",
       "2  Germany  30.0  54000.000000             1              0\n",
       "3    Spain  38.0  61000.000000             1              0\n",
       "4  Germany  40.0  63777.777778             0              1"
      ]
     },
     "execution_count": 16,
     "metadata": {},
     "output_type": "execute_result"
    }
   ],
   "source": [
    "data1 = pd.get_dummies(data1,columns=['Purchased'])\n",
    "data1.head()"
   ]
  },
  {
   "cell_type": "code",
   "execution_count": 17,
   "id": "cf3402bb",
   "metadata": {},
   "outputs": [
    {
     "data": {
      "text/html": [
       "<div>\n",
       "<style scoped>\n",
       "    .dataframe tbody tr th:only-of-type {\n",
       "        vertical-align: middle;\n",
       "    }\n",
       "\n",
       "    .dataframe tbody tr th {\n",
       "        vertical-align: top;\n",
       "    }\n",
       "\n",
       "    .dataframe thead th {\n",
       "        text-align: right;\n",
       "    }\n",
       "</style>\n",
       "<table border=\"1\" class=\"dataframe\">\n",
       "  <thead>\n",
       "    <tr style=\"text-align: right;\">\n",
       "      <th></th>\n",
       "      <th>Country</th>\n",
       "      <th>Age</th>\n",
       "      <th>Salary</th>\n",
       "      <th>Purchased</th>\n",
       "    </tr>\n",
       "  </thead>\n",
       "  <tbody>\n",
       "    <tr>\n",
       "      <th>0</th>\n",
       "      <td>France</td>\n",
       "      <td>44.0</td>\n",
       "      <td>72000.0</td>\n",
       "      <td>No</td>\n",
       "    </tr>\n",
       "    <tr>\n",
       "      <th>1</th>\n",
       "      <td>Spain</td>\n",
       "      <td>27.0</td>\n",
       "      <td>48000.0</td>\n",
       "      <td>Yes</td>\n",
       "    </tr>\n",
       "    <tr>\n",
       "      <th>2</th>\n",
       "      <td>Germany</td>\n",
       "      <td>30.0</td>\n",
       "      <td>54000.0</td>\n",
       "      <td>No</td>\n",
       "    </tr>\n",
       "    <tr>\n",
       "      <th>3</th>\n",
       "      <td>Spain</td>\n",
       "      <td>38.0</td>\n",
       "      <td>61000.0</td>\n",
       "      <td>No</td>\n",
       "    </tr>\n",
       "    <tr>\n",
       "      <th>4</th>\n",
       "      <td>Germany</td>\n",
       "      <td>40.0</td>\n",
       "      <td>NaN</td>\n",
       "      <td>Yes</td>\n",
       "    </tr>\n",
       "  </tbody>\n",
       "</table>\n",
       "</div>"
      ],
      "text/plain": [
       "   Country   Age   Salary Purchased\n",
       "0   France  44.0  72000.0        No\n",
       "1    Spain  27.0  48000.0       Yes\n",
       "2  Germany  30.0  54000.0        No\n",
       "3    Spain  38.0  61000.0        No\n",
       "4  Germany  40.0      NaN       Yes"
      ]
     },
     "execution_count": 17,
     "metadata": {},
     "output_type": "execute_result"
    }
   ],
   "source": [
    "#Dropping Country to Perform Normalization & Standardization -- Country coln is 'Object' dtypes\n",
    "data1 = data1.drop(\"Country\",axis = 1)\n",
    "data.head()"
   ]
  },
  {
   "cell_type": "markdown",
   "id": "ea1a0f6a",
   "metadata": {},
   "source": [
    "#### Normalization of the data"
   ]
  },
  {
   "cell_type": "code",
   "execution_count": 18,
   "id": "9be2ddf8",
   "metadata": {},
   "outputs": [],
   "source": [
    "# Normalization of the data\n",
    "from numpy import set_printoptions\n",
    "from sklearn.preprocessing import MinMaxScaler"
   ]
  },
  {
   "cell_type": "code",
   "execution_count": 19,
   "id": "2db44e8d",
   "metadata": {
    "scrolled": true
   },
   "outputs": [
    {
     "data": {
      "text/plain": [
       "array([[4.40000000e+01, 7.20000000e+04, 1.00000000e+00, 0.00000000e+00],\n",
       "       [2.70000000e+01, 4.80000000e+04, 0.00000000e+00, 1.00000000e+00],\n",
       "       [3.00000000e+01, 5.40000000e+04, 1.00000000e+00, 0.00000000e+00],\n",
       "       [3.80000000e+01, 6.10000000e+04, 1.00000000e+00, 0.00000000e+00],\n",
       "       [4.00000000e+01, 6.37777778e+04, 0.00000000e+00, 1.00000000e+00],\n",
       "       [3.50000000e+01, 5.80000000e+04, 0.00000000e+00, 1.00000000e+00],\n",
       "       [3.90000000e+01, 5.20000000e+04, 1.00000000e+00, 0.00000000e+00],\n",
       "       [4.80000000e+01, 7.90000000e+04, 0.00000000e+00, 1.00000000e+00],\n",
       "       [5.00000000e+01, 8.30000000e+04, 1.00000000e+00, 0.00000000e+00],\n",
       "       [3.70000000e+01, 6.70000000e+04, 0.00000000e+00, 1.00000000e+00]])"
      ]
     },
     "execution_count": 19,
     "metadata": {},
     "output_type": "execute_result"
    }
   ],
   "source": [
    "# in Array format\n",
    "data1.values"
   ]
  },
  {
   "cell_type": "code",
   "execution_count": 20,
   "id": "9b532392",
   "metadata": {},
   "outputs": [
    {
     "name": "stdout",
     "output_type": "stream",
     "text": [
      "[[0.74 0.69 1.   0.  ]\n",
      " [0.   0.   0.   1.  ]\n",
      " [0.13 0.17 1.   0.  ]\n",
      " [0.48 0.37 1.   0.  ]\n",
      " [0.57 0.45 0.   1.  ]]\n"
     ]
    }
   ],
   "source": [
    "array = data1.values\n",
    "\n",
    "scaler = MinMaxScaler(feature_range=(0,1)) # Giving 0,1 through MinMaxScaler as Normalization values are 0,1\n",
    "rescaledX = scaler.fit_transform(array)\n",
    "\n",
    "#transformed data\n",
    "set_printoptions(precision=2) # Converting value with precision 2 which means after decimal 2 values\n",
    "print(rescaledX[0:5,:])       # Printing only first 5 rows and all coln"
   ]
  }
 ],
 "metadata": {
  "kernelspec": {
   "display_name": "Python 3",
   "language": "python",
   "name": "python3"
  },
  "language_info": {
   "codemirror_mode": {
    "name": "ipython",
    "version": 3
   },
   "file_extension": ".py",
   "mimetype": "text/x-python",
   "name": "python",
   "nbconvert_exporter": "python",
   "pygments_lexer": "ipython3",
   "version": "3.8.8"
  }
 },
 "nbformat": 4,
 "nbformat_minor": 5
}
